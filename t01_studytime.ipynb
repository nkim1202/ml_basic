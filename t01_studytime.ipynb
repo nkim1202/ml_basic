{
 "cells": [
  {
   "cell_type": "code",
   "execution_count": 49,
   "metadata": {},
   "outputs": [
    {
     "name": "stdout",
     "output_type": "stream",
     "text": [
      "x_data.shape =  (10, 1) , t_data.shape =  (10, 1)\n"
     ]
    }
   ],
   "source": [
    "import numpy as np\n",
    "\n",
    "#- input data x_data: total study hours\n",
    "#- result data t_data: fail or pass \n",
    "x_data = np.array([2, 4, 6, 8, 10, 12, 14, 16, 18, 20]).reshape(10,1)   \n",
    "t_data = np.array([0, 0, 0, 0,  0,  0,  1,  1,  1,  1]).reshape(10,1)\n",
    "delta  = 1e-7\n",
    "\n",
    "print(\"x_data.shape = \", x_data.shape, \", t_data.shape = \", t_data.shape)"
   ]
  },
  {
   "cell_type": "code",
   "execution_count": 50,
   "metadata": {},
   "outputs": [
    {
     "name": "stdout",
     "output_type": "stream",
     "text": [
      "W =  [[0.46413202]] , W.shape =  (1, 1) , b =  [0.07976486] , b.shape =  (1,)\n"
     ]
    }
   ],
   "source": [
    "W = np.random.rand(1,1)  \n",
    "b = np.random.rand(1)  \n",
    "print(\"W = \", W, \", W.shape = \", W.shape, \", b = \", b, \", b.shape = \", b.shape)"
   ]
  },
  {
   "cell_type": "code",
   "execution_count": 51,
   "metadata": {},
   "outputs": [],
   "source": [
    "def sigmoid(x):\n",
    "    return 1 / (1+np.exp(-x))\n",
    "\n",
    "def loss_func(x, t):\n",
    "\n",
    "    #- X: input data\n",
    "    #- T: answer data\n",
    "    #- W: weight\n",
    "    #- b: bias\n",
    "    #\n",
    "    #- z = WX + b\n",
    "    #- y = sigmoid(z)\n",
    "    z = np.dot(x,W) + b\n",
    "    y = sigmoid(z)\n",
    "    \n",
    "    # cross-entropy \n",
    "    # E(W,b) = -log L(W,b) <-- L(W,b) : likelyhood function\n",
    "    return  -np.sum( t*np.log(y + delta) + (1-t)*np.log((1 - y)+delta ) )\n"
   ]
  },
  {
   "cell_type": "code",
   "execution_count": 54,
   "metadata": {},
   "outputs": [],
   "source": [
    "def numerical_derivative_updated(f, x):\n",
    "    grad = np.zeros_like(x)\n",
    "    \n",
    "    it = np.nditer(x, flags=['multi_index'], op_flags=['readwrite'])\n",
    "    \n",
    "    while not it.finished:\n",
    "        idx = it.multi_index        \n",
    "        tmp_val = x[idx]\n",
    "        x[idx] = float(tmp_val) + delta\n",
    "        fx1 = f(x) # f(x+delta)\n",
    "        \n",
    "        x[idx] = tmp_val - delta \n",
    "        fx2 = f(x) # f(x-delta)\n",
    "        grad[idx] = (fx1 - fx2) / (2*delta)\n",
    "        \n",
    "        x[idx] = tmp_val \n",
    "        it.iternext()   \n",
    "        \n",
    "    return grad\n",
    "\n",
    "def numerical_derivative(f, x):\n",
    "    fx1 = f(x+delta)\n",
    "    fx2 = f(x-delta)\n",
    "    \n",
    "    return (fx1 - fx2) / (2*delta)\n",
    "        \n",
    "\n",
    "def error_val(x, t):\n",
    "    \n",
    "    z = np.dot(x,W) + b\n",
    "    y = sigmoid(z)\n",
    "    print(delta)\n",
    "    \n",
    "    # cross-entropy \n",
    "    return  -np.sum( t*np.log(y + delta) + (1-t)*np.log((1 - y) + delta ) ) \n",
    "\n",
    "\n",
    "def predict(x):\n",
    "    \n",
    "    z = np.dot(x,W) + b\n",
    "    y = sigmoid(z)\n",
    "    \n",
    "    if y >= 0.5:\n",
    "        result = 1  # True\n",
    "    else:\n",
    "        result = 0  # False\n",
    "    \n",
    "    return y, result"
   ]
  },
  {
   "cell_type": "code",
   "execution_count": 55,
   "metadata": {},
   "outputs": [
    {
     "name": "stdout",
     "output_type": "stream",
     "text": [
      "1e-07\n",
      "Initial error value =  4.403154975684961 Initial W =  [[0.14312005]] \n",
      " , b =  [-1.48296243]\n",
      "1e-07\n",
      "step =  0 error value =  4.403154975684961 W =  [[0.14312005]] , b =  [-1.48296243]\n",
      "1e-07\n",
      "step =  400 error value =  4.403154975684961 W =  [[0.14312005]] , b =  [-1.48296243]\n",
      "1e-07\n",
      "step =  800 error value =  4.403154975684961 W =  [[0.14312005]] , b =  [-1.48296243]\n",
      "1e-07\n",
      "step =  1200 error value =  4.403154975684961 W =  [[0.14312005]] , b =  [-1.48296243]\n",
      "1e-07\n",
      "step =  1600 error value =  4.403154975684961 W =  [[0.14312005]] , b =  [-1.48296243]\n",
      "1e-07\n",
      "step =  2000 error value =  4.403154975684961 W =  [[0.14312005]] , b =  [-1.48296243]\n",
      "1e-07\n",
      "step =  2400 error value =  4.403154975684961 W =  [[0.14312005]] , b =  [-1.48296243]\n",
      "1e-07\n",
      "step =  2800 error value =  4.403154975684961 W =  [[0.14312005]] , b =  [-1.48296243]\n",
      "1e-07\n",
      "step =  3200 error value =  4.403154975684961 W =  [[0.14312005]] , b =  [-1.48296243]\n",
      "1e-07\n",
      "step =  3600 error value =  4.403154975684961 W =  [[0.14312005]] , b =  [-1.48296243]\n",
      "1e-07\n",
      "step =  4000 error value =  4.403154975684961 W =  [[0.14312005]] , b =  [-1.48296243]\n",
      "1e-07\n",
      "step =  4400 error value =  4.403154975684961 W =  [[0.14312005]] , b =  [-1.48296243]\n",
      "1e-07\n",
      "step =  4800 error value =  4.403154975684961 W =  [[0.14312005]] , b =  [-1.48296243]\n",
      "1e-07\n",
      "step =  5200 error value =  4.403154975684961 W =  [[0.14312005]] , b =  [-1.48296243]\n",
      "1e-07\n",
      "step =  5600 error value =  4.403154975684961 W =  [[0.14312005]] , b =  [-1.48296243]\n",
      "1e-07\n",
      "step =  6000 error value =  4.403154975684961 W =  [[0.14312005]] , b =  [-1.48296243]\n",
      "1e-07\n",
      "step =  6400 error value =  4.403154975684961 W =  [[0.14312005]] , b =  [-1.48296243]\n",
      "1e-07\n",
      "step =  6800 error value =  4.403154975684961 W =  [[0.14312005]] , b =  [-1.48296243]\n",
      "1e-07\n",
      "step =  7200 error value =  4.403154975684961 W =  [[0.14312005]] , b =  [-1.48296243]\n",
      "1e-07\n",
      "step =  7600 error value =  4.403154975684961 W =  [[0.14312005]] , b =  [-1.48296243]\n",
      "1e-07\n",
      "step =  8000 error value =  4.403154975684961 W =  [[0.14312005]] , b =  [-1.48296243]\n",
      "1e-07\n",
      "step =  8400 error value =  4.403154975684961 W =  [[0.14312005]] , b =  [-1.48296243]\n",
      "1e-07\n",
      "step =  8800 error value =  4.403154975684961 W =  [[0.14312005]] , b =  [-1.48296243]\n",
      "1e-07\n",
      "step =  9200 error value =  4.403154975684961 W =  [[0.14312005]] , b =  [-1.48296243]\n",
      "1e-07\n",
      "step =  9600 error value =  4.403154975684961 W =  [[0.14312005]] , b =  [-1.48296243]\n",
      "1e-07\n",
      "step =  10000 error value =  4.403154975684961 W =  [[0.14312005]] , b =  [-1.48296243]\n"
     ]
    }
   ],
   "source": [
    "\n",
    "learning_rate = 1e-4\n",
    "\n",
    "\n",
    "f = lambda x : loss_func(x_data,t_data)  # f(x) = loss_func(x_data, t_data)\n",
    "\n",
    "print(\"Initial error value = \", error_val(x_data, t_data), \"Initial W = \", W, \"\\n\", \", b = \", b )\n",
    "\n",
    "for step in  range(10001):  \n",
    "    \n",
    "    W -= learning_rate * numerical_derivative(f, W)\n",
    "    \n",
    "    b -= learning_rate * numerical_derivative(f, b)\n",
    "    \n",
    "    if (step % 400 == 0):\n",
    "        print(\"step = \", step, \"error value = \", error_val(x_data, t_data), \"W = \", W, \", b = \",b )"
   ]
  },
  {
   "cell_type": "code",
   "execution_count": 56,
   "metadata": {},
   "outputs": [
    {
     "name": "stdout",
     "output_type": "stream",
     "text": [
      "[[0.79890082]] 1\n"
     ]
    }
   ],
   "source": [
    "(real_val, logical_val) = predict(20) \n",
    "\n",
    "print(real_val, logical_val)"
   ]
  },
  {
   "cell_type": "code",
   "execution_count": 57,
   "metadata": {},
   "outputs": [
    {
     "name": "stdout",
     "output_type": "stream",
     "text": [
      "[[0.59329369]] 1\n"
     ]
    }
   ],
   "source": [
    "(real_val, logical_val) = predict(13) \n",
    "\n",
    "print(real_val, logical_val)"
   ]
  }
 ],
 "metadata": {
  "kernelspec": {
   "display_name": "Python 3",
   "language": "python",
   "name": "python3"
  },
  "language_info": {
   "codemirror_mode": {
    "name": "ipython",
    "version": 3
   },
   "file_extension": ".py",
   "mimetype": "text/x-python",
   "name": "python",
   "nbconvert_exporter": "python",
   "pygments_lexer": "ipython3",
   "version": "3.8.3"
  }
 },
 "nbformat": 4,
 "nbformat_minor": 4
}
