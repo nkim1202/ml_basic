{
 "cells": [
  {
   "cell_type": "code",
   "execution_count": 2,
   "metadata": {},
   "outputs": [],
   "source": [
    "import numpy as np\n",
    "\n",
    "class LogicGate:\n",
    "    \n",
    "    def __init__(self, gate_name, xdata, tdata):\n",
    "        \n",
    "        self.name = gate_name\n",
    "        \n",
    "        # initializing xdata and tdata\n",
    "        self.xdata = xdata.reshape(4,2)\n",
    "        self.tdata = tdata.reshape(4,1)\n",
    "        \n",
    "        # initializing weith and bias\n",
    "        # weight should be (2x1) <-- (4x2)x(2x1) = (4x1)\n",
    "        self.W = np.random.rand(2,1)  \n",
    "        self.b = np.random.rand(1)\n",
    "                        \n",
    "        # leanring rate : this could be 1e-3, 1e-4, 1e-5, ...\n",
    "        self.learning_rate = 1e-2\n",
    "        \n",
    "        # handling numerical errors\n",
    "        self.delta = 1e-7\n",
    "    \n",
    "    def loss_func(self):\n",
    "            \n",
    "        z = np.dot(self.xdata, self.W) + self.b\n",
    "        y = self.sigmoid(z)\n",
    "    \n",
    "        # cross-entropy \n",
    "        return  -np.sum(self.tdata*np.log(y + self.delta) + (1-self.tdata)*np.log((1 - y) + self.delta))    \n",
    "\n",
    "    def train(self):\n",
    "        \n",
    "        f = lambda x : self.loss_func()\n",
    "        \n",
    "        print(\"Initial error value = \", self.error_val())\n",
    "        \n",
    "        for step in  range(8000):\n",
    "            \n",
    "            self.W -= self.learning_rate * self.numerical_derivative(f, self.W)\n",
    "    \n",
    "            self.b -= self.learning_rate * self.numerical_derivative(f, self.b)\n",
    "    \n",
    "            if (step % 400 == 0):\n",
    "                print(\"step = \", step, \"error value = \", self.error_val())\n",
    "               \n",
    "    def predict(self, input_data):\n",
    "        \n",
    "        z = np.dot(input_data, self.W) + self.b\n",
    "        y = self.sigmoid(z)\n",
    "    \n",
    "        if y > 0.5:\n",
    "            result = 1  # True\n",
    "        else:\n",
    "            result = 0  # False\n",
    "    \n",
    "        return y, result\n",
    "    \n",
    "    def sigmoid(self, x):\n",
    "        return 1 / (1+np.exp(-x))\n",
    "\n",
    "    def numerical_derivative(self, f, x):\n",
    "\n",
    "        grad = np.zeros_like(x)\n",
    "\n",
    "        it = np.nditer(x, flags=['multi_index'], op_flags=['readwrite'])\n",
    "\n",
    "        while not it.finished:\n",
    "            idx = it.multi_index        \n",
    "            tmp_val = x[idx]\n",
    "            x[idx] = float(tmp_val) + self.delta\n",
    "            fx1 = f(x) # f(x+delta)\n",
    "\n",
    "            x[idx] = tmp_val - self.delta \n",
    "            fx2 = f(x) # f(x-delta)\n",
    "            grad[idx] = (fx1 - fx2) / (2*self.delta)\n",
    "\n",
    "            x[idx] = tmp_val \n",
    "            it.iternext()   \n",
    "        \n",
    "        return grad  \n",
    "    \n",
    "    def error_val(self):\n",
    "    \n",
    "        z = np.dot(self.xdata, self.W) + self.b\n",
    "        y = self.sigmoid(z)\n",
    "    \n",
    "        # cross-entropy \n",
    "        return  -np.sum(self.tdata*np.log(y + self.delta) + (1-self.tdata)*np.log((1 - y) + self.delta))      \n",
    "\n"
   ]
  },
  {
   "cell_type": "code",
   "execution_count": 3,
   "metadata": {},
   "outputs": [
    {
     "name": "stdout",
     "output_type": "stream",
     "text": [
      "Initial error value =  4.324616883233239\n",
      "step =  0 error value =  4.271397573011206\n",
      "step =  400 error value =  1.5230035023770871\n",
      "step =  800 error value =  1.135241368859194\n",
      "step =  1200 error value =  0.914082017618923\n",
      "step =  1600 error value =  0.7676798317396498\n",
      "step =  2000 error value =  0.6622725113614869\n",
      "step =  2400 error value =  0.5822632751167088\n",
      "step =  2800 error value =  0.5192801621400176\n",
      "step =  3200 error value =  0.46834989855360876\n",
      "step =  3600 error value =  0.4262989913755708\n",
      "step =  4000 error value =  0.39099267641551316\n",
      "step =  4400 error value =  0.36093565469299016\n",
      "step =  4800 error value =  0.33504643296544945\n",
      "step =  5200 error value =  0.31252212056211026\n",
      "step =  5600 error value =  0.29275354858676694\n",
      "step =  6000 error value =  0.2752699091726979\n",
      "step =  6400 error value =  0.2597014834532206\n",
      "step =  6800 error value =  0.24575386454041204\n",
      "step =  7200 error value =  0.23318971502218971\n",
      "step =  7600 error value =  0.22181559525828196\n"
     ]
    }
   ],
   "source": [
    "xdata = np.array([ [0, 0], [0, 1], [1, 0], [1, 1] ])\n",
    "tdata = np.array([0, 0, 0, 1])\n",
    "\n",
    "AND_obj = LogicGate(\"AND\", xdata, tdata)\n",
    "\n",
    "AND_obj.train()"
   ]
  },
  {
   "cell_type": "code",
   "execution_count": 4,
   "metadata": {},
   "outputs": [
    {
     "name": "stdout",
     "output_type": "stream",
     "text": [
      "AND\n",
      "[0 0]  =  0\n",
      "[0 1]  =  0\n",
      "[1 0]  =  0\n",
      "[1 1]  =  1\n"
     ]
    }
   ],
   "source": [
    "print(AND_obj.name)\n",
    "\n",
    "test_data = np.array([ [0, 0], [0, 1], [1, 0], [1, 1] ])\n",
    "\n",
    "for input_data in test_data:\n",
    "    (sigmoid_val, logical_val) = AND_obj.predict(input_data) \n",
    "    print(input_data, \" = \", logical_val)"
   ]
  },
  {
   "cell_type": "code",
   "execution_count": 5,
   "metadata": {},
   "outputs": [
    {
     "name": "stdout",
     "output_type": "stream",
     "text": [
      "Initial error value =  1.9019427526072468\n",
      "step =  0 error value =  1.898195895840093\n",
      "step =  400 error value =  1.1697184139921506\n",
      "step =  800 error value =  0.8366801688431742\n",
      "step =  1200 error value =  0.6447134063822927\n",
      "step =  1600 error value =  0.5211239318369797\n",
      "step =  2000 error value =  0.43545115100215276\n",
      "step =  2400 error value =  0.3728748568531937\n",
      "step =  2800 error value =  0.3253440506465704\n",
      "step =  3200 error value =  0.28812211686589534\n",
      "step =  3600 error value =  0.2582494055777942\n",
      "step =  4000 error value =  0.23378684492417978\n",
      "step =  4400 error value =  0.21341418659856834\n",
      "step =  4800 error value =  0.19620331746514777\n",
      "step =  5200 error value =  0.18148390393417163\n",
      "step =  5600 error value =  0.16876042935250937\n",
      "step =  6000 error value =  0.1576591507377591\n",
      "step =  6400 error value =  0.14789315207487647\n",
      "step =  6800 error value =  0.13923870902701632\n",
      "step =  7200 error value =  0.13151893121589994\n",
      "step =  7600 error value =  0.12459220662507473\n",
      "OR\n",
      "[0 0]  =  0\n",
      "[0 1]  =  1\n",
      "[1 0]  =  1\n",
      "[1 1]  =  1\n"
     ]
    }
   ],
   "source": [
    "xdata = np.array([ [0, 0], [0, 1], [1, 0], [1, 1] ])\n",
    "tdata = np.array([0, 1, 1, 1])\n",
    "\n",
    "OR_obj = LogicGate(\"OR\", xdata, tdata)\n",
    "OR_obj.train()\n",
    "\n",
    "print(OR_obj.name)\n",
    "test_data = np.array([ [0, 0], [0, 1], [1, 0], [1, 1] ])\n",
    "for input_data in test_data:\n",
    "    (sigmoid_val, logical_val) = OR_obj.predict(input_data) \n",
    "    print(input_data, \" = \", logical_val)\n"
   ]
  },
  {
   "cell_type": "code",
   "execution_count": 6,
   "metadata": {},
   "outputs": [
    {
     "name": "stdout",
     "output_type": "stream",
     "text": [
      "Initial error value =  3.159486579411328\n",
      "step =  0 error value =  3.1482099918034576\n",
      "step =  400 error value =  1.6588917187393601\n",
      "step =  800 error value =  1.2030043576788683\n",
      "step =  1200 error value =  0.9558066912614798\n",
      "step =  1600 error value =  0.7964675935455863\n",
      "step =  2000 error value =  0.6835247836081055\n",
      "step =  2400 error value =  0.5986669029265225\n",
      "step =  2800 error value =  0.5323495697629773\n",
      "step =  3200 error value =  0.4790156023662969\n",
      "step =  3600 error value =  0.4351694361154316\n",
      "step =  4000 error value =  0.39848474939374534\n",
      "step =  4400 error value =  0.3673455848594981\n",
      "step =  4800 error value =  0.340590956696511\n",
      "step =  5200 error value =  0.3173636775214128\n",
      "step =  5600 error value =  0.29701637407735404\n",
      "step =  6000 error value =  0.27905067977909426\n",
      "step =  6400 error value =  0.2630765697453662\n",
      "step =  6800 error value =  0.24878439792605672\n",
      "step =  7200 error value =  0.23592520500144654\n",
      "step =  7600 error value =  0.22429656094481065\n",
      "NAND [1 1 1 0]\n",
      "[0 0]  =  1\n",
      "[0 1]  =  1\n",
      "[1 0]  =  1\n",
      "[1 1]  =  0\n"
     ]
    }
   ],
   "source": [
    "xdata = np.array([ [0, 0], [0, 1], [1, 0], [1, 1] ])\n",
    "tdata = np.array([1, 1, 1, 0])\n",
    "\n",
    "NAND_obj = LogicGate(\"NAND\", xdata, tdata)\n",
    "NAND_obj.train()\n",
    "\n",
    "print(NAND_obj.name, tdata)\n",
    "test_data = np.array([ [0, 0], [0, 1], [1, 0], [1, 1] ])\n",
    "for input_data in test_data:\n",
    "    (sigmoid_val, logical_val) = NAND_obj.predict(input_data) \n",
    "    print(input_data, \" = \", logical_val)"
   ]
  },
  {
   "cell_type": "code",
   "execution_count": 20,
   "metadata": {},
   "outputs": [
    {
     "name": "stdout",
     "output_type": "stream",
     "text": [
      "Initial error value =  2.8725843485266584\n",
      "step =  0 error value =  2.8695416402541065\n",
      "step =  400 error value =  2.772693042637904\n",
      "step =  800 error value =  2.7726077454217277\n",
      "step =  1200 error value =  2.7725922043930966\n",
      "step =  1600 error value =  2.772588955514962\n",
      "step =  2000 error value =  2.772588190741843\n",
      "step =  2400 error value =  2.77258799505195\n",
      "step =  2800 error value =  2.7725879424326387\n",
      "step =  3200 error value =  2.772587927903018\n",
      "step =  3600 error value =  2.772587923836845\n",
      "step =  4000 error value =  2.7725879226913905\n",
      "step =  4400 error value =  2.772587922367686\n",
      "step =  4800 error value =  2.772587922276071\n",
      "step =  5200 error value =  2.77258792225012\n",
      "step =  5600 error value =  2.7725879222427676\n",
      "step =  6000 error value =  2.7725879222406844\n",
      "step =  6400 error value =  2.7725879222400946\n",
      "step =  6800 error value =  2.7725879222399272\n",
      "step =  7200 error value =  2.77258792223988\n",
      "step =  7600 error value =  2.7725879222398664\n"
     ]
    }
   ],
   "source": [
    "xdata = np.array([ [0, 0], [0, 1], [1, 0], [1, 1] ])\n",
    "tdata = np.array([0, 1, 1, 0])\n",
    "\n",
    "XOR_obj = LogicGate(\"XOR\", xdata, tdata)\n",
    "XOR_obj.train()"
   ]
  },
  {
   "cell_type": "code",
   "execution_count": 19,
   "metadata": {},
   "outputs": [
    {
     "name": "stdout",
     "output_type": "stream",
     "text": [
      "XOR [0 1 1 0]\n",
      "[0 0]  =  0\n",
      "[0 1]  =  0\n",
      "[1 0]  =  0\n",
      "[1 1]  =  1\n"
     ]
    }
   ],
   "source": [
    "print(XOR_obj.name, tdata)\n",
    "test_data = np.array([ [0, 0], [0, 1], [1, 0], [1, 1] ])\n",
    "for input_data in test_data:\n",
    "    (sigmoid_val, logical_val) = XOR_obj.predict(input_data) \n",
    "    print(input_data, \" = \", logical_val)"
   ]
  },
  {
   "cell_type": "code",
   "execution_count": 18,
   "metadata": {},
   "outputs": [
    {
     "name": "stdout",
     "output_type": "stream",
     "text": [
      "[0 0]  =  0\n",
      "[0 1]  =  1\n",
      "[1 0]  =  1\n",
      "[1 1]  =  0\n"
     ]
    }
   ],
   "source": [
    "# XOR(a,b) = a!b + !ab = !!(a!b + !ab) = !(!(a!b) * !(!ab))\n",
    "#          = !((!a + b) * (a + !b)) = !(!aa + !a!b + ab + b!b)\n",
    "#          = !(ab + !a!b) = !(ab)*!(!a!b) = !(ab) * (a + b) \n",
    "#          = NAND(a,b) * OR(a,b) = AND(NAND(a,b), OR(a,b))\n",
    "# XOR = NAND * OR = AND(NAND, OR) \n",
    "\n",
    "input_data = np.array([ [0, 0], [0, 1], [1, 0], [1, 1] ])\n",
    "final_output = []   \n",
    "\n",
    "for index in range(len(input_data)):\n",
    "    \n",
    "    sig, nand_ab = NAND_obj.predict(input_data[index])  # NAND output\n",
    "    sig, or_ab   = OR_obj.predict(input_data[index])    # OR output\n",
    "    #print(index, input_data[index], nand_ab, or_ab)\n",
    "\n",
    "    new_input_data = [] \n",
    "    new_input_data.append(nand_ab)  # NAND(a,b)\n",
    "    new_input_data.append(or_ab)  # OR(a,b)\n",
    "\n",
    "    # nand_ab = NAND(a,b)\n",
    "    # or_ab = OR(a,b)\n",
    "    # AND(nand_ab, or_ab)   \n",
    "    (sigmoid_val, logical_val) = AND_obj.predict(np.array(new_input_data))\n",
    "    \n",
    "    final_output.append(logical_val)   \n",
    "\n",
    "for index in range(len(input_data)):    \n",
    "    print(input_data[index], \" = \", final_output[index])\n"
   ]
  },
  {
   "cell_type": "code",
   "execution_count": null,
   "metadata": {},
   "outputs": [],
   "source": []
  }
 ],
 "metadata": {
  "kernelspec": {
   "display_name": "Python 3",
   "language": "python",
   "name": "python3"
  },
  "language_info": {
   "codemirror_mode": {
    "name": "ipython",
    "version": 3
   },
   "file_extension": ".py",
   "mimetype": "text/x-python",
   "name": "python",
   "nbconvert_exporter": "python",
   "pygments_lexer": "ipython3",
   "version": "3.8.3"
  }
 },
 "nbformat": 4,
 "nbformat_minor": 4
}
